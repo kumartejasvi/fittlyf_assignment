{
 "cells": [
  {
   "cell_type": "markdown",
   "id": "e9f843c0",
   "metadata": {},
   "source": [
    "Question 1"
   ]
  },
  {
   "cell_type": "code",
   "execution_count": 1,
   "id": "40043893",
   "metadata": {},
   "outputs": [
    {
     "name": "stdout",
     "output_type": "stream",
     "text": [
      "1\n",
      "4\n",
      "9\n",
      "16\n",
      "25\n",
      "36\n",
      "The sequence has ended\n"
     ]
    }
   ],
   "source": [
    "def Question1():\n",
    "    A=[1,2,3,4,5,6]\n",
    "    for num in A:\n",
    "        print((num)**2)\n",
    "    print(\"The sequence has ended\")\n",
    "Question1()"
   ]
  },
  {
   "cell_type": "markdown",
   "id": "27e00c02",
   "metadata": {},
   "source": [
    "Question 2"
   ]
  },
  {
   "cell_type": "code",
   "execution_count": 2,
   "id": "b8f60b83",
   "metadata": {},
   "outputs": [
    {
     "name": "stdout",
     "output_type": "stream",
     "text": [
      "Enter a number1\n",
      "* * * * * \n",
      "\n",
      "* * * * \n",
      "\n",
      " * * * \n",
      "\n",
      "  * * \n",
      "\n",
      "   * \n",
      "\n"
     ]
    }
   ],
   "source": [
    "user=int(input(\"Enter a number\"))\n",
    "def star_pattern():\n",
    "    for i in range(5):\n",
    "        for j in range(i-1):\n",
    "            print(\" \",end=\"\")\n",
    "        for k in range(5-i):\n",
    "            print(\"* \",end=\"\")\n",
    "        print(\"\\n\")\n",
    "def underscore_pattern():\n",
    "    for i in range(4):\n",
    "        for j in range(4-i-1):\n",
    "            print(\" \",end=\"\")\n",
    "        for k in range(i+2):\n",
    "            print(\"_ \",end=\"\")\n",
    "        print(\"\\n\")\n",
    "if user != 1 and user != 2:\n",
    "    print(\"INVALID INPUT\")\n",
    "star_pattern()\n",
    "if user==2:\n",
    "    underscore_pattern()"
   ]
  },
  {
   "cell_type": "markdown",
   "id": "85fb6290",
   "metadata": {},
   "source": [
    "Question 3"
   ]
  },
  {
   "cell_type": "code",
   "execution_count": 3,
   "id": "345a261e",
   "metadata": {},
   "outputs": [
    {
     "name": "stdout",
     "output_type": "stream",
     "text": [
      "t_1: (1, 4, 9, 16, 25, 36)\n",
      "t_modified: (1, 16, 81, 256, 625, 1296)\n",
      "Element at index position 4 of t_modified: 625\n",
      "t_sliced: (16, 81, 256)\n"
     ]
    }
   ],
   "source": [
    "def Question3():\n",
    "    t_1=(1,4,9,16,25,36)\n",
    "    t_modified=tuple((t**2 for t in t_1))\n",
    "    print(\"t_1:\",t_1)\n",
    "    print(\"t_modified:\",t_modified)\n",
    "    print(\"Element at index position 4 of t_modified:\",t_modified[4])\n",
    "    print(\"t_sliced:\",t_modified[1:4])\n",
    "Question3()"
   ]
  },
  {
   "cell_type": "markdown",
   "id": "d4414ab2",
   "metadata": {},
   "source": [
    "Question 4"
   ]
  },
  {
   "cell_type": "markdown",
   "id": "e919e374",
   "metadata": {},
   "source": [
    "Tuples\n",
    "\n",
    "In Python tuples are very similar to lists, however, unlike lists they are immutable meaning they can not be changed. You would use tuples to present things that shouldn't be changed, such as days of the week, or dates on a calendar.\n",
    "\n",
    "So, Tuples are immutable means we cannot do item assignment or any modification in tuples.\n",
    "\n",
    "Immutability is the when no change is possible over time. In python if the value of the object cannot be changed or cannot be modified then the object is called as Immutable.\n",
    "\n",
    "When we try to modify the immutable objects then we get the error of \"object does not support item assignment\"."
   ]
  },
  {
   "cell_type": "code",
   "execution_count": 4,
   "id": "257be6c3",
   "metadata": {},
   "outputs": [
    {
     "ename": "TypeError",
     "evalue": "'tuple' object does not support item assignment",
     "output_type": "error",
     "traceback": [
      "\u001b[1;31m---------------------------------------------------------------------------\u001b[0m",
      "\u001b[1;31mTypeError\u001b[0m                                 Traceback (most recent call last)",
      "\u001b[1;32m<ipython-input-4-90a1bcdfa3a4>\u001b[0m in \u001b[0;36m<module>\u001b[1;34m\u001b[0m\n\u001b[0;32m      1\u001b[0m \u001b[0mtup\u001b[0m\u001b[1;33m=\u001b[0m\u001b[1;33m(\u001b[0m\u001b[1;36m1\u001b[0m\u001b[1;33m,\u001b[0m\u001b[1;36m2\u001b[0m\u001b[1;33m,\u001b[0m\u001b[1;36m3\u001b[0m\u001b[1;33m,\u001b[0m\u001b[1;36m4\u001b[0m\u001b[1;33m,\u001b[0m\u001b[1;36m5\u001b[0m\u001b[1;33m)\u001b[0m\u001b[1;33m\u001b[0m\u001b[1;33m\u001b[0m\u001b[0m\n\u001b[1;32m----> 2\u001b[1;33m \u001b[0mtup\u001b[0m\u001b[1;33m[\u001b[0m\u001b[1;36m0\u001b[0m\u001b[1;33m]\u001b[0m\u001b[1;33m=\u001b[0m\u001b[1;34m\"change\"\u001b[0m\u001b[1;33m\u001b[0m\u001b[1;33m\u001b[0m\u001b[0m\n\u001b[0m\u001b[0;32m      3\u001b[0m \u001b[0mprint\u001b[0m\u001b[1;33m(\u001b[0m\u001b[0mtup\u001b[0m\u001b[1;33m)\u001b[0m\u001b[1;33m\u001b[0m\u001b[1;33m\u001b[0m\u001b[0m\n",
      "\u001b[1;31mTypeError\u001b[0m: 'tuple' object does not support item assignment"
     ]
    }
   ],
   "source": [
    "tup=(1,2,3,4,5)\n",
    "tup[0]=\"change\"\n",
    "print(tup)"
   ]
  },
  {
   "cell_type": "markdown",
   "id": "65465c2e",
   "metadata": {},
   "source": [
    "Question 5"
   ]
  },
  {
   "cell_type": "code",
   "execution_count": 5,
   "id": "d00b7617",
   "metadata": {},
   "outputs": [
    {
     "name": "stdout",
     "output_type": "stream",
     "text": [
      "frozen_set_1: frozenset({'B', 'D', 'C', 'A'})\n",
      "frozen_set_2 frozenset({2, 4, 'A', 'C'})\n",
      "frozenset_union: frozenset({'C', 2, 4, 'B', 'D', 'A'})\n",
      "frozenset_common: frozenset({'C', 'A'})\n",
      "frozenset_difference: frozenset({'B', 'D'})\n",
      "frozenset_distinct: frozenset({2, 4, 'B', 'D'})\n"
     ]
    }
   ],
   "source": [
    "def Question5():\n",
    "    frozen_set_1 = ['A','B','C','D']\n",
    "    frozen_set_2 = ['A',2,'C',4]\n",
    "    fs1=frozenset(frozen_set_1)\n",
    "    fs2=frozenset(frozen_set_2)\n",
    "    frozenset_union = frozenset(frozen_set_1 + frozen_set_2)\n",
    "    print(\"frozen_set_1:\",fs1)\n",
    "    print(\"frozen_set_2\",fs2)\n",
    "    print(\"frozenset_union:\",frozenset_union)\n",
    "    if (fs1 & fs2):\n",
    "        print(\"frozenset_common:\",fs1 & fs2)\n",
    "    print(\"frozenset_difference:\",fs1.difference(fs2))\n",
    "    print(\"frozenset_distinct:\",fs1 ^ fs2)   \n",
    "Question5()"
   ]
  },
  {
   "cell_type": "markdown",
   "id": "042735a1",
   "metadata": {},
   "source": [
    "Question 6"
   ]
  },
  {
   "cell_type": "code",
   "execution_count": 16,
   "id": "943770f6",
   "metadata": {},
   "outputs": [
    {
     "name": "stdout",
     "output_type": "stream",
     "text": [
      "['tree', 'under', 'price']\n"
     ]
    }
   ],
   "source": [
    "list_a = [\"car\", \"place\", \"tree\", \"under\", \"grass\", \"price\"]\n",
    "remove_items_containing_a_or_A=list(filter(lambda item :'a' not in item and 'A' not in item,list_a,))\n",
    "print(remove_items_containing_a_or_A)"
   ]
  },
  {
   "cell_type": "code",
   "execution_count": 31,
   "id": "74094719",
   "metadata": {},
   "outputs": [
    {
     "name": "stdout",
     "output_type": "stream",
     "text": [
      "Enter the index = 10\n",
      "The index 10 is incorrect and index should lie between -5 and 4\n"
     ]
    }
   ],
   "source": [
    "def Question7():\n",
    "    list_a = [1,2,3,4,5]\n",
    "    n=input(\"Enter the index = \")\n",
    "    if n.isdigit() == False:\n",
    "        print(\"Use an Integer value as the input.\")\n",
    "    elif int(n)<-len(list_a) or int(n)>=len(list_a):\n",
    "        print(\"The index \"+str(n)+\" is incorrect and index should lie between \"+ str(-len(list_a))+\" and \"+str(len(list_a)-1))\n",
    "    else:\n",
    "        print(list_a[int(n)])\n",
    "Question7()"
   ]
  }
 ],
 "metadata": {
  "kernelspec": {
   "display_name": "Python 3",
   "language": "python",
   "name": "python3"
  },
  "language_info": {
   "codemirror_mode": {
    "name": "ipython",
    "version": 3
   },
   "file_extension": ".py",
   "mimetype": "text/x-python",
   "name": "python",
   "nbconvert_exporter": "python",
   "pygments_lexer": "ipython3",
   "version": "3.8.8"
  }
 },
 "nbformat": 4,
 "nbformat_minor": 5
}
